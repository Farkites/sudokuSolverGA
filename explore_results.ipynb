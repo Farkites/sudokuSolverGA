{
 "cells": [
  {
   "cell_type": "code",
   "execution_count": null,
   "id": "threatened-exhaust",
   "metadata": {},
   "outputs": [],
   "source": [
    "import pandas as pd\n",
    "import os\n",
    "import numpy as np\n",
    "\n",
    "import seaborn as sns \n",
    "from matplotlib import pyplot as plt\n",
    "\n",
    "%matplotlib inline\n",
    "%config InlineBackend.figure_format = 'retina' # optionally, you can change 'svg' to 'retina'\n",
    "\n"
   ]
  },
  {
   "cell_type": "code",
   "execution_count": null,
   "id": "postal-giving",
   "metadata": {},
   "outputs": [],
   "source": [
    "# utils \n",
    "\n",
    "joinpath = os.path.join\n",
    "\n",
    "\n",
    "def create_dir(path): \n",
    "    if not os.path.exists(path): \n",
    "        os.mkdir(path)"
   ]
  },
  {
   "cell_type": "code",
   "execution_count": null,
   "id": "clinical-ancient",
   "metadata": {},
   "outputs": [],
   "source": [
    "# definitions \n",
    "\n",
    "FITNESS_MEAN = 'fitness_mean'\n",
    "FITNESS_SD = 'fitness_sd'\n",
    "POP_SIZE = 'pop_size'\n",
    "GENS = 'gens'\n",
    "REPRESENTATION = 'representation'\n",
    "\n",
    "ANALYSIS_DIR = 'analysis/'\n",
    "create_dir(ANALYSIS_DIR)\n",
    "\n",
    "\n"
   ]
  },
  {
   "cell_type": "code",
   "execution_count": null,
   "id": "moved-satellite",
   "metadata": {},
   "outputs": [],
   "source": [
    "overview_mr = pd.read_csv('results_mr/overview_mr.csv', sep=';')\n",
    "overview_mr.insert(0, 'run_name', [f'{run}_mr' for run in overview_mr.run_id])\n",
    "#[f'{run}_mr' for run in overview_mr.run_id]\n",
    "overview_mr"
   ]
  },
  {
   "cell_type": "code",
   "execution_count": null,
   "id": "recognized-nevada",
   "metadata": {},
   "outputs": [],
   "source": [
    "overview_dp = pd.read_csv(os.path.join('results','overview.csv'), sep=';')\n",
    "overview_dp.insert(0, 'run_name', [f'{run}_dp' for run in overview_dp.run_id])\n",
    "\n",
    "overview_dp"
   ]
  },
  {
   "cell_type": "code",
   "execution_count": null,
   "id": "million-constitution",
   "metadata": {},
   "outputs": [],
   "source": [
    "overview = pd.concat([overview_dp, overview_mr], axis=0)\n",
    "overview.info()"
   ]
  },
  {
   "cell_type": "code",
   "execution_count": null,
   "id": "ranking-barrier",
   "metadata": {},
   "outputs": [],
   "source": [
    "overview.info()"
   ]
  },
  {
   "cell_type": "code",
   "execution_count": null,
   "id": "small-branch",
   "metadata": {},
   "outputs": [],
   "source": [
    "overview['fitness_mean']"
   ]
  },
  {
   "cell_type": "code",
   "execution_count": null,
   "id": "entitled-routine",
   "metadata": {},
   "outputs": [],
   "source": [
    "overview.loc[overview.run_id == 23, ].sort_values(by='fitness_mean').head(10)"
   ]
  },
  {
   "cell_type": "code",
   "execution_count": null,
   "id": "drawn-egypt",
   "metadata": {},
   "outputs": [],
   "source": [
    "\n",
    "\n",
    "configdims = [\n",
    "    'co_p', 'crossover', 'difficulty', 'diversity_measure','early_stopping_patience',\n",
    "    'elitism', 'epochs', 'fitness_sharing','gens', 'mu_p', \n",
    "    'mutation', 'optim', 'pop_size', 'representation','selection'\n",
    "]\n",
    "\n",
    "techdims = [\n",
    "    'user_id', 'comments'\n",
    "]\n",
    "\n",
    "iddims = [\n",
    "    'run_name', 'run_id', 'gs_id'\n",
    "]\n",
    "\n",
    "metricdims = [\n",
    "    'duration', 'fitness_mean', 'fitness_sd',\n",
    "       'stopped_early'\n",
    "]\n",
    "\n",
    "def analyse_config(overview, configdims, analysis_name): \n",
    "    outpath = joinpath(ANALYSIS_DIR, analysis_name)\n",
    "    create_dir(outpath)\n",
    "\n",
    "    configdims_count = overview[configdims].apply(pd.Series.nunique)\n",
    "    configdims_vary = configdims_count[configdims_count != 1].index.tolist()\n",
    "    configdims_constant = configdims_count[configdims_count == 1].index.tolist()\n",
    "\n",
    "    configdims_vary\n",
    "\n",
    "    configdims_vary = overview[configdims_vary].apply(pd.Series.unique).reset_index().rename(columns = {'index': 'param', 0: 'values'})\n",
    "    configdims_vary\n",
    "    configdims_vary.to_csv(joinpath(outpath, 'configdims_vary.csv'), index=False, sep=';')\n",
    "\n",
    "\n",
    "    configdims_constant = overview[configdims_constant].apply(pd.Series.unique).reset_index().rename(columns = {'index': 'param', 0: 'values'})\n",
    "    configdims_constant\n",
    "    configdims_constant.to_csv(joinpath(outpath, 'configdims_constant.csv'), index=False, sep=';')\n",
    "\n",
    "    info = pd.DataFrame({\n",
    "        'n_combos': [overview.shape[0]]\n",
    "    })\n",
    "\n",
    "    \n",
    "    info.to_csv(joinpath(outpath, 'info.csv'), index=False, sep=';')\n",
    "\n",
    "    \n",
    "    print(f'N_combos: {overview.shape[0]}')\n",
    "    print(f'configdims_constant:\\n{configdims_constant}')\n",
    "    print(f'configdims_vary:\\n{configdims_vary}')\n",
    "\n",
    "    \n",
    "    return configdims_vary.param.tolist()\n",
    "\n",
    "def cetris_paribus(overview_df, configdims_vary, dim, mode='pivot', verbose=False): \n",
    "    cols_hold_constant = [d for d in configdims_vary if d not in [dim]] \n",
    "    \n",
    "    repr_grid1 = pd.pivot(overview_df, index=cols_hold_constant, columns=[dim], values=[FITNESS_MEAN])\n",
    "    \n",
    "    if verbose: print(repr_grid1)\n",
    "    repr_grid1_comp = repr_grid1.idxmin(axis=1).values.tolist()\n",
    "    repr_grid1_comp\n",
    "    \n",
    "    if mode == 'pivot': \n",
    "        res = repr_grid1\n",
    "    elif mode == 'winner':\n",
    "        #res = repr_grid1_comp\n",
    "        res = repr_grid1.idxmin(axis=1)#.value_counts()\n",
    "    elif mode == 'value_counts':\n",
    "        res = repr_grid1.idxmin(axis=1).value_counts()\n",
    "\n",
    "    return res\n",
    "    "
   ]
  },
  {
   "cell_type": "markdown",
   "id": "marine-check",
   "metadata": {},
   "source": [
    "# grid run 0 \n",
    "- compare selection \n",
    "- pop_size"
   ]
  },
  {
   "cell_type": "code",
   "execution_count": null,
   "id": "analyzed-hartford",
   "metadata": {},
   "outputs": [],
   "source": [
    "ex0 = overview.loc[overview.run_name == '0_dp']\n",
    "\n",
    "ex0.sort_values(by=[REPRESENTATION, FITNESS_MEAN])"
   ]
  },
  {
   "cell_type": "code",
   "execution_count": null,
   "id": "proved-commitment",
   "metadata": {},
   "outputs": [],
   "source": [
    "configdims_vary_ex0 = analyse_config(ex0, configdims, 'ex0_popSize_selectio')"
   ]
  },
  {
   "cell_type": "code",
   "execution_count": null,
   "id": "appreciated-clark",
   "metadata": {},
   "outputs": [],
   "source": [
    "dim ='pop_size'\n",
    "cetris_paribus(ex0, configdims_vary_ex0, dim, 'value_counts')"
   ]
  },
  {
   "cell_type": "code",
   "execution_count": null,
   "id": "cutting-circular",
   "metadata": {},
   "outputs": [],
   "source": [
    "cetris_paribus(ex0, configdims_vary_ex0, dim, 'pivot')"
   ]
  },
  {
   "cell_type": "code",
   "execution_count": null,
   "id": "searching-championship",
   "metadata": {},
   "outputs": [],
   "source": [
    "dim = 'selection'\n",
    "\n",
    "cetris_paribus(ex0, configdims_vary_ex0, dim, 'value_counts')"
   ]
  },
  {
   "cell_type": "code",
   "execution_count": null,
   "id": "medium-northeast",
   "metadata": {},
   "outputs": [],
   "source": [
    "cetris_paribus(ex0, configdims_vary_ex0, dim, 'winner')"
   ]
  },
  {
   "cell_type": "code",
   "execution_count": null,
   "id": "formal-orlando",
   "metadata": {},
   "outputs": [],
   "source": [
    "dim = 'selection'\n",
    "\n",
    "res = cetris_paribus(ex0, configdims_vary_ex0, dim, 'pivot')\n",
    "#res.apply(lambda row: row[1])\n",
    "\n",
    "#res['new'] = res.min(axis=1)\n",
    "res = res.apply(lambda x: x-min(x), axis=1)\n",
    "res\n",
    "\n",
    "#res.index.map('_'.join)\n",
    "\n",
    "#res.index = res.index.map(lambda x: '_'.join(map(str, x)))\n",
    "#res = res.reset_index()\n",
    "res.columns\n",
    "#.join(map(str, value_list))\n",
    "res.values\n",
    "res.columns.get_level_values(1).tolist()\n",
    "\n",
    "res = pd.DataFrame(\n",
    "    res.values, \n",
    "    columns=res.columns.get_level_values(1).tolist()\n",
    "\n",
    ")\n",
    "\n",
    "plotdata = pd.melt(res, var_name=dim, value_name=FITNESS_MEAN)\n",
    "plotdata\n",
    "\n",
    "print(f'Mean: {plotdata.loc[plotdata.fitness_mean != 0, :].fitness_mean.mean()}') \n",
    "print(f'Sd: {plotdata.loc[plotdata.fitness_mean != 0, :].fitness_mean.std()}') \n",
    "print(f'Min: {plotdata.loc[plotdata.fitness_mean != 0, :].fitness_mean.min()}') \n",
    "\n",
    "\n",
    "#sns.lineplot(data=plotdata,x=None, y=FITNESS_MEAN, hue=dim)"
   ]
  },
  {
   "cell_type": "code",
   "execution_count": null,
   "id": "adapted-punishment",
   "metadata": {},
   "outputs": [],
   "source": [
    "dim = 'representation'\n",
    "\n",
    "cetris_paribus(ex0, configdims_vary_ex0, dim, 'value_counts')"
   ]
  },
  {
   "cell_type": "code",
   "execution_count": null,
   "id": "confidential-spyware",
   "metadata": {},
   "outputs": [],
   "source": [
    "cb_distance_to_winner(ex0, configdims_vary_ex0, dim,)"
   ]
  },
  {
   "cell_type": "code",
   "execution_count": null,
   "id": "incorrect-pixel",
   "metadata": {},
   "outputs": [],
   "source": [
    "ncols = res.shape[1]\n",
    "fig, ax = plt.subplots(ncols=ncols)\n",
    "\n",
    "for idx, dim in enumerate(res.columns): \n",
    "    print(dim)\n",
    "    print(res[dim])\n",
    "    plotdata = res[dim]\n",
    "    sns.lineplot(data=plotdata, x=plotdata.index, y=dim, ax=ax[idx])\n",
    "    #ax.plot(plotdata.index, y=plotdata[dim])\n",
    "    \n",
    "    \n",
    "\n"
   ]
  },
  {
   "cell_type": "markdown",
   "id": "laden-brighton",
   "metadata": {},
   "source": [
    "# first grid run\n"
   ]
  },
  {
   "cell_type": "markdown",
   "id": "adverse-oxygen",
   "metadata": {},
   "source": []
  },
  {
   "cell_type": "code",
   "execution_count": null,
   "id": "sustainable-welcome",
   "metadata": {},
   "outputs": [],
   "source": []
  },
  {
   "cell_type": "code",
   "execution_count": null,
   "id": "ruled-thumbnail",
   "metadata": {},
   "outputs": [],
   "source": []
  },
  {
   "cell_type": "code",
   "execution_count": null,
   "id": "loose-carpet",
   "metadata": {},
   "outputs": [],
   "source": [
    "grid1 = overview.loc[(overview.run_name.isin(['24_dp'])),:]\n",
    "\n",
    "configdims_vary_g1 = analyse_config(\n",
    "    overview=grid1,\n",
    "    configdims=configdims,\n",
    "    analysis_name='01_grid1')\n",
    "\n",
    "\n"
   ]
  },
  {
   "cell_type": "code",
   "execution_count": null,
   "id": "special-talent",
   "metadata": {},
   "outputs": [],
   "source": [
    "grid1.sort_values(FITNESS_MEAN).head(20)"
   ]
  },
  {
   "cell_type": "code",
   "execution_count": null,
   "id": "banned-market",
   "metadata": {},
   "outputs": [],
   "source": [
    "dim = 'fitness_sharing'\n",
    "\n",
    "cetris_paribus(grid1, configdims_vary_g1, dim, 'pivot')"
   ]
  },
  {
   "cell_type": "code",
   "execution_count": null,
   "id": "random-sociology",
   "metadata": {},
   "outputs": [],
   "source": [
    "cetris_paribus(grid1, configdims_vary_g1, dim, 'value_counts')"
   ]
  },
  {
   "cell_type": "markdown",
   "id": "massive-fourth",
   "metadata": {},
   "source": [
    "## representation"
   ]
  },
  {
   "cell_type": "code",
   "execution_count": null,
   "id": "blank-address",
   "metadata": {},
   "outputs": [],
   "source": [
    "# representation \n",
    "\n",
    "fig, ax = plt.subplots(1,1)\n",
    "#group = (plotdata.representation == 'maintain_init_puzzle').values\n",
    "#group = [1 if row.representation == 'maintain_init_puzzle' else 0 for row in plotdata.iterrows()]\n",
    "group = 'representation'\n",
    "h_order = grid1.groupby(group)[FITNESS_MEAN].mean().sort_values().index.tolist()\n",
    "h_order\n",
    "sns.boxplot(data = grid1, y=FITNESS_MEAN, x=group, hue=group,hue_order=h_order, ax=ax)\n",
    "#ax.set_xlabel('', rotation=45)\n",
    "ax.tick_params(labelrotation=45)\n",
    "\n"
   ]
  },
  {
   "cell_type": "code",
   "execution_count": null,
   "id": "bizarre-basement",
   "metadata": {},
   "outputs": [],
   "source": [
    "dim = 'representation'\n",
    "\n",
    "\n",
    "def cb_distance_to_winner(overview, configdims_vary, dim): \n",
    "    \n",
    "    res = cetris_paribus(overview, configdims_vary, dim, 'pivot')\n",
    "\n",
    "    res = res.apply(lambda x: x-min(x), axis=1)\n",
    "\n",
    "    res.columns.get_level_values(1).tolist()\n",
    "\n",
    "    res = pd.DataFrame(\n",
    "        res.values, \n",
    "        columns=res.columns.get_level_values(1).tolist()\n",
    "\n",
    "    )\n",
    "\n",
    "    plotdata = pd.melt(res, var_name=dim, value_name=FITNESS_MEAN)\n",
    "\n",
    "\n",
    "\n",
    "    print(f'Mean: {plotdata.loc[plotdata.fitness_mean != 0, :].fitness_mean.mean()}') \n",
    "    print(f'Sd: {plotdata.loc[plotdata.fitness_mean != 0, :].fitness_mean.std()}') \n",
    "    print(f'Min: {plotdata.loc[plotdata.fitness_mean != 0, :].fitness_mean.min()}')\n",
    "    print(f'Max: {plotdata.loc[plotdata.fitness_mean != 0, :].fitness_mean.max()}')\n",
    "\n",
    "\n",
    "    return plotdata\n",
    "\n",
    "cb_distance_to_winner(\n",
    "    overview=grid1[grid1.representation.isin(['maintain_init_puzzle', 'with_replacement', 'without_replacement'  ])], \n",
    "    configdims_vary=configdims_vary_g1, \n",
    "    dim=dim\n",
    ")\n"
   ]
  },
  {
   "cell_type": "code",
   "execution_count": null,
   "id": "eleven-amount",
   "metadata": {},
   "outputs": [],
   "source": [
    "dim = 'representation'\n",
    "\n",
    "res = cetris_paribus(grid1[grid1.representation.isin(['random_mix', 'maintain_init_puzzle' ])], configdims_vary_g1, dim, 'pivot')\n",
    "\n",
    "res = res.apply(lambda x: x-min(x), axis=1)\n",
    "\n",
    "res.columns.get_level_values(1).tolist()\n",
    "\n",
    "res = pd.DataFrame(\n",
    "    res.values, \n",
    "    columns=res.columns.get_level_values(1).tolist()\n",
    "\n",
    ")\n",
    "\n",
    "plotdata = pd.melt(res, var_name=dim, value_name=FITNESS_MEAN)\n",
    "plotdata\n",
    "\n",
    "print(f'Mean: {plotdata.loc[plotdata.fitness_mean != 0, :].fitness_mean.mean()}') \n",
    "print(f'Sd: {plotdata.loc[plotdata.fitness_mean != 0, :].fitness_mean.std()}') \n",
    "print(f'Min: {plotdata.loc[plotdata.fitness_mean != 0, :].fitness_mean.min()}') \n",
    "\n"
   ]
  },
  {
   "cell_type": "code",
   "execution_count": null,
   "id": "exclusive-labor",
   "metadata": {},
   "outputs": [],
   "source": [
    "configdims_vary_g1[0:-1]\n",
    "grid1.groupby(configdims_vary_g1[0:-1]).representation"
   ]
  },
  {
   "cell_type": "code",
   "execution_count": null,
   "id": "canadian-coordinator",
   "metadata": {},
   "outputs": [],
   "source": [
    "cetris_paribus(overview_df=grid1, configdims_vary=configdims_vary_g1, dim=REPRESENTATION, mode='value_counts', verbose=False)\n"
   ]
  },
  {
   "cell_type": "markdown",
   "id": "initial-carpet",
   "metadata": {},
   "source": [
    "## maintain init vs random \n",
    "- best of each\n",
    "- compare hostory"
   ]
  },
  {
   "cell_type": "code",
   "execution_count": null,
   "id": "raising-edmonton",
   "metadata": {},
   "outputs": [],
   "source": [
    "# TODO:"
   ]
  },
  {
   "cell_type": "markdown",
   "id": "assigned-independence",
   "metadata": {},
   "source": [
    "## ex2: explore maintain_init_position\n",
    "- subset of ex1 PLUS Sudoku specific operators (['24_dp', '12_mr'])"
   ]
  },
  {
   "cell_type": "code",
   "execution_count": null,
   "id": "dutch-consideration",
   "metadata": {},
   "outputs": [],
   "source": [
    "analysis_name = 'ex2-maintain'\n",
    "\n",
    "ex2 = overview.loc[\n",
    "    (overview.run_name.isin(['24_dp', '12_mr']))\n",
    "    & (overview.representation == 'maintain_init_puzzle')\n",
    "    ,:]\n",
    "\n",
    "configdims_vary_ex2 = analyse_config(ex2, configdims, analysis_name)"
   ]
  },
  {
   "cell_type": "markdown",
   "id": "comprehensive-trance",
   "metadata": {},
   "source": [
    "### overall variance\n"
   ]
  },
  {
   "cell_type": "code",
   "execution_count": null,
   "id": "rolled-cooper",
   "metadata": {},
   "outputs": [],
   "source": [
    "\n",
    "fig, (ax1, ax2) = plt.subplots(ncols=2)\n",
    "sns.boxplot(data=ex2, y=FITNESS_MEAN, ax=ax1)\n",
    "sns.boxplot(data=ex2, y=FITNESS_SD, ax=ax2)\n",
    "fig.tight_layout()"
   ]
  },
  {
   "cell_type": "code",
   "execution_count": null,
   "id": "biblical-pride",
   "metadata": {},
   "outputs": [],
   "source": [
    "from copy import deepcopy\n",
    "plotdata = deepcopy(ex2)\n",
    "\n",
    "plotdata = plotdata.sort_values(by=FITNESS_MEAN, axis=0, ascending=True).reset_index()\n",
    "plotdata"
   ]
  },
  {
   "cell_type": "code",
   "execution_count": null,
   "id": "refined-thickness",
   "metadata": {},
   "outputs": [],
   "source": [
    "plotdata_top20 = plotdata[configdims_vary_ex2].head(20)#.apply(pd.Series.value_counts, axis=0)\n",
    "\n",
    "fig, ax = plt.subplots(\n",
    "    ncols=plotdata_top20.shape[1], \n",
    "    sharey=True\n",
    ")\n",
    "idx=0\n",
    "for name, col in plotdata_top20.items():\n",
    "    print(name)\n",
    "    tmp = col.value_counts(normalize=True).reset_index()\n",
    "    tmp.rename(columns={'index':name, name:'ratio'}, inplace=True)\n",
    "    print(tmp)\n",
    "    print('\\n')\n",
    "    \n",
    "    sns.barplot(data=tmp, x=name, y='ratio', ax=ax[idx])\n",
    "    #ax.set_xticklables(rotation=90)\n",
    "    plt.setp(ax[idx].xaxis.get_majorticklabels(), rotation=90)\n",
    "    \n",
    "\n",
    "    idx += 1\n",
    "\n",
    "\n",
    "fig.suptitle('Top20: Distribution of parameter options', size=12)\n",
    "fig.tight_layout()\n",
    "fig.savefig(joinpath(outpath, 'top20.pdf'))\n",
    "\n"
   ]
  },
  {
   "cell_type": "code",
   "execution_count": null,
   "id": "remarkable-peace",
   "metadata": {},
   "outputs": [],
   "source": [
    "plotdata_top20 = plotdata[configdims_vary_ex2].head(20)#.apply(pd.Series.value_counts, axis=0)\n",
    "\n",
    "fig, ax = plt.subplots(\n",
    "    nrows=plotdata_top20.shape[1], \n",
    "    sharex=True\n",
    ")\n",
    "idx=0\n",
    "for name, col in plotdata_top20.items():\n",
    "    print(name)\n",
    "    tmp = col.value_counts(normalize=True).reset_index()\n",
    "    tmp.rename(columns={'index':name, name:'ratio'}, inplace=True)\n",
    "    print(tmp)\n",
    "    print('\\n')\n",
    "    \n",
    "    sns.barplot(data=tmp, y=name, x='ratio', ax=ax[idx], orient='h')\n",
    "    #ax.set_xticklables(rotation=90)\n",
    "    #plt.setp(ax[idx].xaxis.get_majorticklabels(), rotation=90)\n",
    "\n",
    "    idx += 1\n",
    "\n",
    "    \n",
    "fig.tight_layout()\n",
    "    "
   ]
  },
  {
   "cell_type": "code",
   "execution_count": null,
   "id": "gothic-congress",
   "metadata": {},
   "outputs": [],
   "source": [
    "# figsize=(15,10)\n",
    "fig, ax = plt.subplots()\n",
    "\n",
    "# ax.plot(plotdata.fitness_mean)\n",
    "ax = sns.pointplot(data=plotdata, x=plotdata.index, y=FITNESS_MEAN)\n",
    "\n",
    "\n",
    "# Find the x,y coordinates for each point\n",
    "x_coords = []\n",
    "y_coords = []\n",
    "for point_pair in ax.collections:\n",
    "    for x, y in point_pair.get_offsets():\n",
    "        x_coords.append(x)\n",
    "        y_coords.append(y)\n",
    "\n",
    "# Calculate the type of error to plot as the error bars\n",
    "# Make sure the order is the same as the points were looped over\n",
    "#errors = tips.groupby(['smoker', 'sex']).std()['tip']\n",
    "#colors = ['steelblue']*2 + ['coral']*2\n",
    "ax.errorbar(x_coords, y_coords, yerr=plotdata.fitness_sd, fmt=' ', zorder=-1, color='black', capsize=2)\n",
    "ax.xaxis.set_visible(False)\n",
    "\n",
    "\n",
    "outpath = joinpath(ANALYSIS_DIR, analysis_name)\n",
    "\n",
    "fig.suptitle('Compare Fitness of configs \\n Errorbar shows ± SD', size=12)\n",
    "fig.savefig(joinpath(outpath, 'fitness.pdf'))\n"
   ]
  },
  {
   "cell_type": "code",
   "execution_count": null,
   "id": "french-cabinet",
   "metadata": {},
   "outputs": [],
   "source": [
    "\n",
    "for dim in configdims_vary_ex2: \n",
    "    print(dim)\n",
    "    res = cetris_paribus(ex2, configdims_vary_ex2, dim, mode='value_counts')\n",
    "    print(res)\n"
   ]
  },
  {
   "cell_type": "markdown",
   "id": "faced-socket",
   "metadata": {},
   "source": [
    "# exp4 - diff2"
   ]
  },
  {
   "cell_type": "code",
   "execution_count": null,
   "id": "seeing-inflation",
   "metadata": {},
   "outputs": [],
   "source": [
    "ex4 = overview.loc[overview.run_name == '25_dp']\n",
    "plotdata = deepcopy(ex4)\n",
    "\n",
    "plotdata = plotdata.sort_values(by=FITNESS_MEAN, axis=0, ascending=True).reset_index()\n",
    "plotdata\n"
   ]
  },
  {
   "cell_type": "code",
   "execution_count": null,
   "id": "female-breakfast",
   "metadata": {},
   "outputs": [],
   "source": [
    "analysis_name = 'ex4'\n",
    "analyse_config(ex4, configdims, analysis_name)"
   ]
  },
  {
   "cell_type": "code",
   "execution_count": null,
   "id": "meaning-burlington",
   "metadata": {},
   "outputs": [],
   "source": [
    "# figsize=(15,10)\n",
    "fig, ax = plt.subplots()\n",
    "\n",
    "# ax.plot(plotdata.fitness_mean)\n",
    "ax = sns.pointplot(data=plotdata, x=plotdata.index, y=FITNESS_MEAN)\n",
    "\n",
    "\n",
    "# Find the x,y coordinates for each point\n",
    "x_coords = []\n",
    "y_coords = []\n",
    "for point_pair in ax.collections:\n",
    "    for x, y in point_pair.get_offsets():\n",
    "        x_coords.append(x)\n",
    "        y_coords.append(y)\n",
    "\n",
    "# Calculate the type of error to plot as the error bars\n",
    "# Make sure the order is the same as the points were looped over\n",
    "#errors = tips.groupby(['smoker', 'sex']).std()['tip']\n",
    "#colors = ['steelblue']*2 + ['coral']*2\n",
    "ax.errorbar(x_coords, y_coords, yerr=plotdata.fitness_sd, fmt=' ', zorder=-1, color='black', capsize=2)\n",
    "ax.xaxis.set_visible(False)\n",
    "\n",
    "\n",
    "outpath = joinpath(ANALYSIS_DIR, analysis_name)\n",
    "\n",
    "fig.suptitle('Compare Fitness of configs \\n Errorbar shows ± SD', size=12)\n",
    "fig.savefig(joinpath(outpath, 'fitness.pdf'))"
   ]
  },
  {
   "cell_type": "markdown",
   "id": "challenging-creation",
   "metadata": {},
   "source": [
    "# scratch"
   ]
  },
  {
   "cell_type": "code",
   "execution_count": null,
   "id": "listed-beginning",
   "metadata": {},
   "outputs": [],
   "source": [
    "    # plot scores \n",
    "    def plot_scores(scores, width=200, height=200, dodge=True): \n",
    "        my_dpi = 200\n",
    "        fig = plt.figure(\n",
    "            figsize=(\n",
    "                #10, 8\n",
    "                width/my_dpi, height/my_dpi\n",
    "            )\n",
    "        )\n",
    "        ax = sns.pointplot(data=scores, x='model', y='mean', hue='config', alpha=.7, dodge=dodge, join=False, scale=.5)\n",
    "\n",
    "        # Find the x,y coordinates for each point\n",
    "        x_coords = []\n",
    "        y_coords = []\n",
    "        for point_pair in ax.collections:\n",
    "            for x, y in point_pair.get_offsets():\n",
    "                x_coords.append(x)\n",
    "                y_coords.append(y)\n",
    "\n",
    "        # Calculate the type of error to plot as the error bars\n",
    "        # Make sure the order is the same as the points were looped over\n",
    "        #errors = tips.groupby(['smoker', 'sex']).std()['tip']\n",
    "        #colors = ['steelblue']*2 + ['coral']*2\n",
    "        ax.errorbar(x_coords, y_coords, yerr=scores.sd, fmt=' ', zorder=-1, color='black', capsize=2)\n",
    "\n",
    "        plt.legend(bbox_to_anchor=(0., 1.02, 1., .102), loc='lower left',\n",
    "                   ncol=1, mode=\"expand\", borderaxespad=0., prop={'size': 6})\n",
    "        plt.tight_layout()\n",
    "        plt.xticks(rotation=90)\n",
    "        ax.set(ylabel='mean micro f1 score')\n",
    "\n",
    "\n",
    "        #plt.savefig(os.path.join(explorations_path, f'{filename}.png'), dpi=200, bbox_inches = \"tight\")\n",
    "\n",
    "\n",
    "        plt.show()\n",
    "       \n",
    "    # generate and save plot\n",
    "    #plot_scores(scores, explorations_path, 'comp_all', 1200, 1400, .4)"
   ]
  },
  {
   "cell_type": "markdown",
   "id": "satisfied-egypt",
   "metadata": {},
   "source": [
    "# pop size"
   ]
  },
  {
   "cell_type": "code",
   "execution_count": null,
   "id": "several-guinea",
   "metadata": {},
   "outputs": [],
   "source": [
    "from copy import deepcopy"
   ]
  },
  {
   "cell_type": "code",
   "execution_count": null,
   "id": "hybrid-provision",
   "metadata": {},
   "outputs": [],
   "source": [
    "def filter_runs(overview, colname, values):\n",
    "    df = deepcopy(overview)\n",
    "    if not isinstance(values, list): \n",
    "        values = [values]\n",
    "    return overview.loc[overview[colname].isin(values), ]\n",
    "    "
   ]
  },
  {
   "cell_type": "code",
   "execution_count": null,
   "id": "posted-province",
   "metadata": {},
   "outputs": [],
   "source": [
    "plotdata = filter_runs(overview, 'run_id', 0)\n",
    "plotdata.info()"
   ]
  },
  {
   "cell_type": "code",
   "execution_count": null,
   "id": "injured-directive",
   "metadata": {},
   "outputs": [],
   "source": [
    "#plotdata.loc['cat_maintain_init_puzzle'] = np.where(plotdata.representation == 'maintain_init_puzzle', 1, 0)"
   ]
  },
  {
   "cell_type": "code",
   "execution_count": null,
   "id": "proud-event",
   "metadata": {},
   "outputs": [],
   "source": [
    "plotdata"
   ]
  },
  {
   "cell_type": "code",
   "execution_count": null,
   "id": "physical-eagle",
   "metadata": {},
   "outputs": [],
   "source": [
    "\n",
    "fig, ax = plt.subplots(1,1)\n",
    "#group = (plotdata.representation == 'maintain_init_puzzle').values\n",
    "group = [1 if row.representation == 'maintain_init_puzzle' else 0 for row in plotdata.iterrows()]\n",
    "group\n",
    "#sns.boxplot(data = plotdata, y=fitness_mean, x=group, hue=group, ax=ax)\n"
   ]
  },
  {
   "cell_type": "code",
   "execution_count": null,
   "id": "electronic-thriller",
   "metadata": {},
   "outputs": [],
   "source": [
    "for row in plotdata.iteritems(): \n",
    "    print(row)"
   ]
  },
  {
   "cell_type": "code",
   "execution_count": null,
   "id": "roman-yeast",
   "metadata": {},
   "outputs": [],
   "source": [
    "plotdata[(plotdata.fitness_mean < 40) & (plotdata.pop_size == 100)]"
   ]
  },
  {
   "cell_type": "code",
   "execution_count": null,
   "id": "portable-hawaii",
   "metadata": {},
   "outputs": [],
   "source": [
    "overview.loc[overview['run_id'] in [0] , ]"
   ]
  },
  {
   "cell_type": "code",
   "execution_count": null,
   "id": "continued-football",
   "metadata": {},
   "outputs": [],
   "source": []
  }
 ],
 "metadata": {
  "kernelspec": {
   "display_name": "Python 3",
   "language": "python",
   "name": "python3"
  },
  "language_info": {
   "codemirror_mode": {
    "name": "ipython",
    "version": 3
   },
   "file_extension": ".py",
   "mimetype": "text/x-python",
   "name": "python",
   "nbconvert_exporter": "python",
   "pygments_lexer": "ipython3",
   "version": "3.8.5"
  }
 },
 "nbformat": 4,
 "nbformat_minor": 5
}
